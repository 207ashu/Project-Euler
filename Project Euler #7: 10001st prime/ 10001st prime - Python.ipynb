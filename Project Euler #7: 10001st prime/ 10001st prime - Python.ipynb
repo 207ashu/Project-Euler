{
 "cells": [
  {
   "cell_type": "code",
   "execution_count": null,
   "metadata": {},
   "outputs": [],
   "source": [
    "import sys\n",
    "import math\n",
    "\n",
    "t = int(input().strip())\n",
    "a=[]\n",
    "k=0\n",
    "for a0 in range(t):\n",
    "    n = int(input().strip())\n",
    "    a.append(n)\n",
    "    if k<n:\n",
    "        k=n \n",
    "i=11\n",
    "t=[2,3,5,7]\n",
    "if(len(t)<k):\n",
    "    while(len(t) != k):\n",
    "        if(i%10==1 or i%10==3 or i%10==7 or i%10==9):\n",
    "            l=True\n",
    "            for z in range(2,int(math.sqrt(i))+1):\n",
    "                if(i%z==0):\n",
    "                    l=False\n",
    "                    break\n",
    "            if(l):\n",
    "                t.append(i)\n",
    "        i+=1\n",
    "for i in a:\n",
    "    print(t[i-1])"
   ]
  },
  {
   "cell_type": "markdown",
   "metadata": {},
   "source": []
  }
 ],
 "metadata": {
  "kernelspec": {
   "display_name": "Python 3",
   "language": "python",
   "name": "python3"
  },
  "language_info": {
   "codemirror_mode": {
    "name": "ipython",
    "version": 3
   },
   "file_extension": ".py",
   "mimetype": "text/x-python",
   "name": "python",
   "nbconvert_exporter": "python",
   "pygments_lexer": "ipython3",
   "version": "3.5.2"
  }
 },
 "nbformat": 4,
 "nbformat_minor": 2
}
